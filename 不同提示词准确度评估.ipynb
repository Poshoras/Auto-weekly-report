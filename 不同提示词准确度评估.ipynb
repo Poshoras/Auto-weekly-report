{
 "cells": [
  {
   "cell_type": "code",
   "execution_count": null,
   "id": "ddb9e876",
   "metadata": {},
   "outputs": [
    {
     "name": "stdout",
     "output_type": "stream",
     "text": [
      "1\n"
     ]
    }
   ],
   "source": []
  },
  {
   "cell_type": "code",
   "execution_count": null,
   "id": "8ee567f9",
   "metadata": {},
   "outputs": [
    {
     "data": {
      "text/plain": [
       "[5, 7, 9]"
      ]
     },
     "execution_count": 2,
     "metadata": {},
     "output_type": "execute_result"
    }
   ],
   "source": [
    "\n"
   ]
  },
  {
   "cell_type": "code",
   "execution_count": null,
   "id": "5cfa8d43",
   "metadata": {},
   "outputs": [
    {
     "name": "stdout",
     "output_type": "stream",
     "text": [
      "0.32608695652173914 0.33707865168539325 0.35443037974683544 0.375 0.32941176470588235\n",
      "0.375\n",
      "1.0\n"
     ]
    }
   ],
   "source": [
    "import jieba\n",
    "\n",
    "def Jaccrad(model, reference):  # terms_reference为源句子，terms_model为候选句子\n",
    "    terms_reference = jieba.cut(reference)  # 默认精准模式\n",
    "    terms_model = jieba.cut(model)\n",
    "    grams_reference = set(terms_reference)  # 去重；如果不需要就改为list\n",
    "    grams_model = set(terms_model)\n",
    "    temp = 0\n",
    "    for i in grams_reference:\n",
    "        if i in grams_model:\n",
    "            temp = temp + 1\n",
    "    fenmu = len(grams_model) + len(grams_reference) - temp  # 并集\n",
    "    jaccard_coefficient = float(temp / fenmu)  # 交集\n",
    "    return jaccard_coefficient\n",
    "\n",
    "a = \"完成了对全部 20 名外包司机的能力测试，合格率 100%；2. 对自由滚筒进行了全面的夹点安全检查，识别并消除了 4 处危险夹点，并制定了新的 OPL；3. 在夏季持续关注员工身心健康，在 FF 车间的高温工位安装了冷风机。\"\n",
    "d = \"所有 20 名外包司机已完成能力测试，测试结果全部合格，相关记录已归档并完成备案；完成自由滚筒区域全面安全检查，识别并消除 4 处机械夹点风险，整改措施已验证有效，对应 OPL 文件已完成更新并下发至现场；在 FF 车间实施冷风机防中暑措施，覆盖高温作业区域，确保作业人员在高温环境下安全作业。\"\n",
    "e = \"20名外包司机已完成能力测试，全部通过，符合上岗标准；对自由滚筒区域进行全面检查，已消除4处危险夹点，并同步更新对应OPL（操作指导卡）；FF车间已加装冷风机，有效提升作业环境降温效果，预防高温中暑风险。\"\n",
    "b = \"所有20名外包司机已完成能力测试，测试结果全部达标，确保了运输作业的安全性与合规性；对自由滚筒区域进行全面检查，成功识别并消除4处潜在危险夹点，相关整改已闭环；同步更新了对应OPL（操作指导卡），强化一线员工风险意识与操作规范；FF车间已正式加装冷风机，有效改善高温作业环境，预防中暑风险，切实落实防暑降温措施，保障员工健康与生产连续性。\"\n",
    "c = \"所有 20 名外包司机已完成能力测试，测试结果全部达标，确保运输作业安全合规；对自由滚筒区域进行全面检查，识别并消除 4 处潜在危险夹点，相关整改措施已闭环；更新对应 OPL（标准作业指导卡），强化作业人员对关键风险点的认知与防范意识；FF 车间已部署冷风机，有效改善高温作业环境，落实防中暑措施，保障员工健康与作业安全。\"\n",
    "f = \"完成20名外包司机的能力测试，全员通过，确保运输作业人员资质合规，降低外部作业安全风险；对自由滚筒区域进行全面安全检查，识别并消除4处潜在夹点隐患，同步更新对应OPL（操作指导卡），强化员工风险意识与标准化操作；FF车间已加装冷风机，落实防暑降温措施，有效应对高温作业环境，保障员工健康与作业安全。\"\n",
    "g = a\n",
    "\n",
    "j_1 = Jaccrad(a,b)  \n",
    "j_2 = Jaccrad(a,c)\n",
    "j_3 = Jaccrad(a,d)\n",
    "j_4 = Jaccrad(a,e)\n",
    "j_5 = Jaccrad(a,f)\n",
    "\n",
    "print(j_1, j_2, j_3, j_4, j_5)\n",
    "\n",
    "max_j = max(j_1, j_2, j_3, j_4, j_5)\n",
    "\n",
    "print(max_j)\n",
    "print(Jaccrad(a,g))\n"
   ]
  }
 ],
 "metadata": {
  "kernelspec": {
   "display_name": "base",
   "language": "python",
   "name": "python3"
  },
  "language_info": {
   "codemirror_mode": {
    "name": "ipython",
    "version": 3
   },
   "file_extension": ".py",
   "mimetype": "text/x-python",
   "name": "python",
   "nbconvert_exporter": "python",
   "pygments_lexer": "ipython3",
   "version": "3.13.5"
  }
 },
 "nbformat": 4,
 "nbformat_minor": 5
}
